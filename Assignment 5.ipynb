{
 "cells": [
  {
   "cell_type": "code",
   "execution_count": 5,
   "metadata": {},
   "outputs": [],
   "source": [
    "#Assignment 5\n",
    " \n",
    "#1. Write a function to compute 5/0 and use try/except to catch the exceptions\n",
    " \n",
    "# Python code to illustrate\n",
    "# working of try() \n",
    "\n",
    "def divide_by(x, y):\n",
    "    result = 0.0\n",
    "    try:\n",
    "        # Floor Division : Gives only Fractional Part as Answer\n",
    "        result = x / y\n",
    "        print(\"The division result is :\", result)\n",
    "    except:\n",
    "        print(\"You are dividing by zero \")\n",
    "    finally:\n",
    "        print(\"The execution is completed\")"
   ]
  },
  {
   "cell_type": "code",
   "execution_count": 6,
   "metadata": {},
   "outputs": [
    {
     "name": "stdout",
     "output_type": "stream",
     "text": [
      "The division result is : 3.5\n",
      "The execution is completed\n"
     ]
    }
   ],
   "source": [
    "divide_by(7,2)"
   ]
  },
  {
   "cell_type": "code",
   "execution_count": 3,
   "metadata": {},
   "outputs": [],
   "source": [
    "#2. Implement a Python program to generate all sentences where subject is in [\"Americans\",\"Indians\"] and\n",
    "#verb is in [\"Play\", \"watch\"] and the object is in [\"Baseball\",\"cricket\"]\n",
    "#Hint: Subject,Verb and Object should be declared in the program as shown below.\n",
    "#subjects=[\"Americans \",\"Indians\"]\n",
    "#verbs=[\"play\",\"watch\"]\n",
    "#objects=[\"Baseball\",\"Cricket\"]\n",
    " \n",
    "#Output should come as below:\n",
    "#Americans play Baseball.\n",
    "#Americans play Cricket.\n",
    "#Americans watch Baseball.\n",
    "#Americans watch Cricket.\n",
    "#Indians play Baseball.\n",
    "#Indians play Cricket.\n",
    "#Indians watch Baseball.\n",
    "#Indians watch Cricket.\n",
    " \n",
    "def sentence():\n",
    "    subject=[\"Americans\", \"Indians\"]\n",
    "    verb=[\"Play\", \"watch\"]\n",
    "    object=[\"Baseball\",\"cricket\"]\n",
    "    result =[]\n",
    " \n",
    "   # use the list comprehension using technique [<action> <Upper for condition> <lower for condition>] for the 3 loops\n",
    " \n",
    "    sentence_list = [(subj+\" \"+ vrb + \" \" + obj) for subj in subject for vrb in verb for obj in object]\n",
    "   \n",
    "    for result in sentence_list:\n",
    "        print(result)\n",
    " \n"
   ]
  },
  {
   "cell_type": "code",
   "execution_count": 4,
   "metadata": {},
   "outputs": [
    {
     "name": "stdout",
     "output_type": "stream",
     "text": [
      "Americans Play Baseball\n",
      "Americans Play cricket\n",
      "Americans watch Baseball\n",
      "Americans watch cricket\n",
      "Indians Play Baseball\n",
      "Indians Play cricket\n",
      "Indians watch Baseball\n",
      "Indians watch cricket\n"
     ]
    }
   ],
   "source": [
    "sentence()"
   ]
  },
  {
   "cell_type": "code",
   "execution_count": null,
   "metadata": {},
   "outputs": [],
   "source": []
  }
 ],
 "metadata": {
  "kernelspec": {
   "display_name": "Python 3",
   "language": "python",
   "name": "python3"
  },
  "language_info": {
   "codemirror_mode": {
    "name": "ipython",
    "version": 3
   },
   "file_extension": ".py",
   "mimetype": "text/x-python",
   "name": "python",
   "nbconvert_exporter": "python",
   "pygments_lexer": "ipython3",
   "version": "3.7.0"
  }
 },
 "nbformat": 4,
 "nbformat_minor": 2
}
